{
 "cells": [
  {
   "cell_type": "code",
   "execution_count": null,
   "metadata": {},
   "outputs": [],
   "source": [
    "from recipe_scrapers import scrape_me\n",
    "import pandas as pd\n",
    "from time import sleep\n",
    "from requests import TooManyRedirects\n",
    "\n",
    "\n",
    "def scrape_and_print(url, dont_print=True):\n",
    "    scraper = scrape_me(url)\n",
    "    \n",
    "    ingredients = '\\n'.join([\n",
    "        '* {}'.format(ing)\n",
    "        for ing in scraper.ingredients()\n",
    "    ])\n",
    "    \n",
    "    print_kwargs = {\n",
    "        'title': scraper.title(),\n",
    "        'tot_time': scraper.total_time(),\n",
    "        'ingredients': ingredients,\n",
    "        'instructions': scraper.instructions(),\n",
    "    }\n",
    "    \n",
    "    if not dont_print:\n",
    "        print(\n",
    "            '=== {title} ========================\\n\\n'\n",
    "            'Time needed: {tot_time} minutes\\n\\n'\n",
    "            'INGREDIENTS: \\n{ingredients}\\n\\n'\n",
    "            'INSTRUCTIONS:\\n{instructions}'\n",
    "            '====================================='\n",
    "            '\\n\\n\\n'\n",
    "            .format(**print_kwargs)\n",
    "        )\n",
    "    \n",
    "    return {\n",
    "        'title': scraper.title(),\n",
    "        'tot_time': scraper.total_time(),\n",
    "        'ingredients': scraper.ingredients(),\n",
    "        'instructions': scraper.instructions(),\n",
    "    }"
   ]
  },
  {
   "cell_type": "code",
   "execution_count": null,
   "metadata": {},
   "outputs": [],
   "source": [
    "example_urls = [\n",
    "    'https://www.allrecipes.com/recipe/236700/beef-bourguignon-without-the-burgundy/',\n",
    "    'https://www.allrecipes.com/recipe/12682/apple-pie-by-grandma-ople/',\n",
    "    'https://www.allrecipes.com/recipe/240376/homemade-pepperoni-pizza/'\n",
    "]\n",
    "\n",
    "for url in example_urls:\n",
    "    _ = scrape_and_print(url, dont_print=False)"
   ]
  },
  {
   "cell_type": "code",
   "execution_count": null,
   "metadata": {},
   "outputs": [],
   "source": [
    "DF_recipe_urls = pd.concat([\n",
    "    pd.read_csv('./data/recipes{}.txt'.format(i), header=None)\n",
    "    for i in ['', 1, 2, 3]\n",
    "])"
   ]
  },
  {
   "cell_type": "code",
   "execution_count": null,
   "metadata": {},
   "outputs": [],
   "source": [
    "def strip_and_clean(x):\n",
    "    return x.strip().replace('<loc>', '').replace('</loc>', '')"
   ]
  },
  {
   "cell_type": "code",
   "execution_count": null,
   "metadata": {},
   "outputs": [],
   "source": [
    "unique_urls = sorted(map(strip_and_clean, DF_recipe_urls[0].unique()))"
   ]
  },
  {
   "cell_type": "code",
   "execution_count": null,
   "metadata": {},
   "outputs": [],
   "source": [
    "counter = 0\n",
    "scrapes = {}\n",
    "error_counter = 0\n",
    "\n",
    "for url in unique_urls:\n",
    "    if error_counter > 10:\n",
    "        print('exceeded 10 errors')\n",
    "        break\n",
    "        \n",
    "    try:\n",
    "        scrape = scrape_and_print(url)\n",
    "    except TooManyRedirects:\n",
    "        error_counter += 1\n",
    "        print('error for: {}\\nerror_counter = {}'.format(url, error_counter))\n",
    "        continue\n",
    "        \n",
    "    scrapes[url] = scrape\n",
    "    counter += 1\n",
    "    sleep(1)\n",
    "    if counter % 100 == 0:\n",
    "        print(counter)"
   ]
  },
  {
   "cell_type": "code",
   "execution_count": null,
   "metadata": {},
   "outputs": [],
   "source": []
  }
 ],
 "metadata": {
  "kernelspec": {
   "display_name": "Python 3",
   "language": "python",
   "name": "python3"
  },
  "language_info": {
   "codemirror_mode": {
    "name": "ipython",
    "version": 3
   },
   "file_extension": ".py",
   "mimetype": "text/x-python",
   "name": "python",
   "nbconvert_exporter": "python",
   "pygments_lexer": "ipython3",
   "version": "3.5.2"
  }
 },
 "nbformat": 4,
 "nbformat_minor": 2
}
